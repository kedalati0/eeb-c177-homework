{
 "cells": [
  {
   "cell_type": "code",
   "execution_count": 5,
   "metadata": {},
   "outputs": [],
   "source": [
    "4 +5 +6\n",
    "## we can do math problems\n",
    "## we can use variables to represent the numbers\n",
    "weight_kg = 60\n"
   ]
  },
  {
   "cell_type": "code",
   "execution_count": 7,
   "metadata": {},
   "outputs": [
    {
     "name": "stdout",
     "output_type": "stream",
     "text": [
      "60\n"
     ]
    }
   ],
   "source": [
    "print(weight_kg)"
   ]
  },
  {
   "cell_type": "code",
   "execution_count": 8,
   "metadata": {},
   "outputs": [
    {
     "name": "stdout",
     "output_type": "stream",
     "text": [
      "3600\n"
     ]
    }
   ],
   "source": [
    "##math operation\n",
    "print(weight_kg*weight_kg)\n",
    "##squaring the variables\n",
    "##you can start a variables with zero, only weight0\n",
    "##capital letters matter"
   ]
  },
  {
   "cell_type": "code",
   "execution_count": 13,
   "metadata": {},
   "outputs": [],
   "source": [
    "my_number = 3\n",
    "my_float = 2.43\n",
    "my_string = 'this is my string:'\n",
    "## this is easy because if we change any variables, it changes throughout the whole program"
   ]
  },
  {
   "cell_type": "code",
   "execution_count": 14,
   "metadata": {},
   "outputs": [
    {
     "name": "stdout",
     "output_type": "stream",
     "text": [
      "this is my string: 2.43\n"
     ]
    }
   ],
   "source": [
    "print(my_string, my_float)"
   ]
  },
  {
   "cell_type": "code",
   "execution_count": 16,
   "metadata": {},
   "outputs": [
    {
     "name": "stdout",
     "output_type": "stream",
     "text": [
      "weight in kilograms: 100\n",
      "weight in pounds: 220.00000000000003\n",
      "100\n",
      "100\n"
     ]
    }
   ],
   "source": [
    "weight_kg_text = 'weight in kilograms:'\n",
    "print(weight_kg_text, weight_kg)\n",
    "print( 'weight in pounds:' , weight_kg * 2.2)\n",
    "print(weight_kg)\n",
    "weight_kg = 100\n",
    "print(weight_kg)\n",
    "##the order of operation matters, so does the order of variables\n",
    "##try running the same function multiple times."
   ]
  },
  {
   "cell_type": "code",
   "execution_count": 17,
   "metadata": {},
   "outputs": [
    {
     "name": "stdout",
     "output_type": "stream",
     "text": [
      "95.0 102\n"
     ]
    }
   ],
   "source": [
    "mass = 47.5\n",
    "age = 122\n",
    "mass = mass * 2.0\n",
    "age = age - 20\n",
    "print(mass, age)"
   ]
  },
  {
   "cell_type": "code",
   "execution_count": null,
   "metadata": {},
   "outputs": [],
   "source": [
    "first, second = 'grace', 'shawn'\n",
    "tird, fourth = second, fir"
   ]
  }
 ],
 "metadata": {
  "kernelspec": {
   "display_name": "Python 3",
   "language": "python",
   "name": "python3"
  },
  "language_info": {
   "codemirror_mode": {
    "name": "ipython",
    "version": 3
   },
   "file_extension": ".py",
   "mimetype": "text/x-python",
   "name": "python",
   "nbconvert_exporter": "python",
   "pygments_lexer": "ipython3",
   "version": "3.7.5"
  }
 },
 "nbformat": 4,
 "nbformat_minor": 2
}
